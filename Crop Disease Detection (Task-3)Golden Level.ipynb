{
 "cells": [
  {
   "cell_type": "code",
   "execution_count": 1,
   "id": "ec48ef57",
   "metadata": {},
   "outputs": [
    {
     "name": "stdout",
     "output_type": "stream",
     "text": [
      "✅ Dataset organized into binary classification:\n",
      " - Healthy: 15084 images\n",
      " - Unhealthy: 39221 images\n"
     ]
    }
   ],
   "source": [
    "import os\n",
    "import shutil\n",
    "\n",
    "# Original dataset path (38 classes)\n",
    "original_dataset = \"Crop Disease Detection/dataset/plantvillage dataset/color\"  # <-- update if different\n",
    "binary_dataset = \"Crop Disease Detection/dataset_binary\"  # Output folder\n",
    "\n",
    "# Binary folder names\n",
    "healthy_classes = [\n",
    "    'Apple___healthy', 'Blueberry___healthy', 'Cherry_(including_sour)___healthy',\n",
    "    'Corn_(maize)___healthy', 'Grape___healthy', 'Peach___healthy',\n",
    "    'Pepper,_bell___healthy', 'Potato___healthy', 'Raspberry___healthy',\n",
    "    'Soybean___healthy', 'Strawberry___healthy', 'Tomato___healthy'\n",
    "]\n",
    "\n",
    "# Prepare folders\n",
    "healthy_folder = os.path.join(binary_dataset, 'Healthy')\n",
    "unhealthy_folder = os.path.join(binary_dataset, 'Unhealthy')\n",
    "os.makedirs(healthy_folder, exist_ok=True)\n",
    "os.makedirs(unhealthy_folder, exist_ok=True)\n",
    "\n",
    "# Move images\n",
    "for class_folder in os.listdir(original_dataset):\n",
    "    class_path = os.path.join(original_dataset, class_folder)\n",
    "    if not os.path.isdir(class_path):\n",
    "        continue\n",
    "\n",
    "    if class_folder in healthy_classes:\n",
    "        dest_folder = healthy_folder\n",
    "    else:\n",
    "        dest_folder = unhealthy_folder\n",
    "\n",
    "    for img in os.listdir(class_path):\n",
    "        src = os.path.join(class_path, img)\n",
    "        dst = os.path.join(dest_folder, f\"{class_folder}_{img}\")\n",
    "        shutil.copy2(src, dst)\n",
    "\n",
    "print(\"✅ Dataset organized into binary classification:\")\n",
    "print(f\" - Healthy: {len(os.listdir(healthy_folder))} images\")\n",
    "print(f\" - Unhealthy: {len(os.listdir(unhealthy_folder))} images\")\n"
   ]
  },
  {
   "cell_type": "code",
   "execution_count": 4,
   "id": "8b98d2ad",
   "metadata": {},
   "outputs": [
    {
     "name": "stdout",
     "output_type": "stream",
     "text": [
      "Found 43445 images belonging to 2 classes.\n",
      "Found 10860 images belonging to 2 classes.\n",
      "Model: \"sequential\"\n",
      "_________________________________________________________________\n",
      " Layer (type)                Output Shape              Param #   \n",
      "=================================================================\n",
      " conv2d (Conv2D)             (None, 126, 126, 32)      896       \n",
      "                                                                 \n",
      " max_pooling2d (MaxPooling2D  (None, 63, 63, 32)       0         \n",
      " )                                                               \n",
      "                                                                 \n",
      " conv2d_1 (Conv2D)           (None, 61, 61, 64)        18496     \n",
      "                                                                 \n",
      " max_pooling2d_1 (MaxPooling  (None, 30, 30, 64)       0         \n",
      " 2D)                                                             \n",
      "                                                                 \n",
      " conv2d_2 (Conv2D)           (None, 28, 28, 128)       73856     \n",
      "                                                                 \n",
      " max_pooling2d_2 (MaxPooling  (None, 14, 14, 128)      0         \n",
      " 2D)                                                             \n",
      "                                                                 \n",
      " flatten (Flatten)           (None, 25088)             0         \n",
      "                                                                 \n",
      " dense (Dense)               (None, 128)               3211392   \n",
      "                                                                 \n",
      " dropout (Dropout)           (None, 128)               0         \n",
      "                                                                 \n",
      " dense_1 (Dense)             (None, 1)                 129       \n",
      "                                                                 \n",
      "=================================================================\n",
      "Total params: 3,304,769\n",
      "Trainable params: 3,304,769\n",
      "Non-trainable params: 0\n",
      "_________________________________________________________________\n",
      "Epoch 1/10\n",
      "1358/1358 [==============================] - 1209s 888ms/step - loss: 0.1881 - accuracy: 0.9230 - val_loss: 0.7684 - val_accuracy: 0.7587\n",
      "Epoch 2/10\n",
      "1358/1358 [==============================] - 497s 366ms/step - loss: 0.0731 - accuracy: 0.9744 - val_loss: 0.4196 - val_accuracy: 0.8683\n",
      "Epoch 3/10\n",
      "1358/1358 [==============================] - 482s 355ms/step - loss: 0.0503 - accuracy: 0.9830 - val_loss: 0.5551 - val_accuracy: 0.8423\n",
      "Epoch 4/10\n",
      "1358/1358 [==============================] - 502s 370ms/step - loss: 0.0363 - accuracy: 0.9876 - val_loss: 0.4611 - val_accuracy: 0.8708\n",
      "Epoch 5/10\n",
      "1358/1358 [==============================] - 494s 363ms/step - loss: 0.0296 - accuracy: 0.9903 - val_loss: 0.5506 - val_accuracy: 0.8618\n",
      "Epoch 6/10\n",
      "1358/1358 [==============================] - 489s 360ms/step - loss: 0.0249 - accuracy: 0.9919 - val_loss: 0.5836 - val_accuracy: 0.8526\n",
      "Epoch 7/10\n",
      "1358/1358 [==============================] - 477s 351ms/step - loss: 0.0222 - accuracy: 0.9929 - val_loss: 0.5673 - val_accuracy: 0.8887\n",
      "Epoch 8/10\n",
      "1358/1358 [==============================] - 407s 299ms/step - loss: 0.0192 - accuracy: 0.9934 - val_loss: 0.7010 - val_accuracy: 0.8703\n",
      "Epoch 9/10\n",
      "1358/1358 [==============================] - 410s 302ms/step - loss: 0.0196 - accuracy: 0.9937 - val_loss: 0.9908 - val_accuracy: 0.8338\n",
      "Epoch 10/10\n",
      "1358/1358 [==============================] - 425s 313ms/step - loss: 0.0180 - accuracy: 0.9946 - val_loss: 0.7868 - val_accuracy: 0.8586\n",
      "✅ Model saved to: Crop Disease Detection/model\\crop_disease_model.keras\n"
     ]
    }
   ],
   "source": [
    "import os\n",
    "import json\n",
    "import numpy as np\n",
    "import matplotlib.pyplot as plt\n",
    "import tensorflow as tf\n",
    "from tensorflow.keras.models import Sequential\n",
    "from tensorflow.keras.layers import Conv2D, MaxPooling2D, Flatten, Dense, Dropout\n",
    "from tensorflow.keras.preprocessing.image import ImageDataGenerator\n",
    "\n",
    "# Paths\n",
    "dataset_dir = \"Crop Disease Detection/dataset_binary\"  # <-- updated for binary dataset\n",
    "model_dir = \"Crop Disease Detection/model\"\n",
    "os.makedirs(model_dir, exist_ok=True)\n",
    "\n",
    "# Image dimensions\n",
    "img_height, img_width = 128, 128\n",
    "batch_size = 32\n",
    "\n",
    "# Data Generator\n",
    "datagen = ImageDataGenerator(\n",
    "    rescale=1./255,\n",
    "    validation_split=0.2\n",
    ")\n",
    "\n",
    "train_data = datagen.flow_from_directory(\n",
    "    dataset_dir,\n",
    "    target_size=(img_height, img_width),\n",
    "    batch_size=batch_size,\n",
    "    class_mode='binary',  # <-- for binary classification\n",
    "    subset='training',\n",
    "    shuffle=True\n",
    ")\n",
    "\n",
    "val_data = datagen.flow_from_directory(\n",
    "    dataset_dir,\n",
    "    target_size=(img_height, img_width),\n",
    "    batch_size=batch_size,\n",
    "    class_mode='binary',  # <-- for binary classification\n",
    "    subset='validation'\n",
    ")\n",
    "\n",
    "# Save class indices to use during prediction\n",
    "class_indices = train_data.class_indices\n",
    "with open(os.path.join(model_dir, \"class_indices.json\"), \"w\") as f:\n",
    "    json.dump(class_indices, f)\n",
    "\n",
    "# CNN Model for Binary Classification\n",
    "model = Sequential([\n",
    "    Conv2D(32, (3, 3), activation='relu', input_shape=(img_height, img_width, 3)),\n",
    "    MaxPooling2D(2, 2),\n",
    "\n",
    "    Conv2D(64, (3, 3), activation='relu'),\n",
    "    MaxPooling2D(2, 2),\n",
    "\n",
    "    Conv2D(128, (3, 3), activation='relu'),\n",
    "    MaxPooling2D(2, 2),\n",
    "\n",
    "    Flatten(),\n",
    "    Dense(128, activation='relu'),\n",
    "    Dropout(0.5),\n",
    "    Dense(1, activation='sigmoid')  # <-- for binary output\n",
    "])\n",
    "\n",
    "model.compile(optimizer='adam',\n",
    "              loss='binary_crossentropy',  # <-- updated for binary\n",
    "              metrics=['accuracy'])\n",
    "\n",
    "model.summary()\n",
    "\n",
    "# Train\n",
    "history = model.fit(\n",
    "    train_data,\n",
    "    validation_data=val_data,\n",
    "    epochs=10\n",
    ")\n",
    "\n",
    "# Save the model\n",
    "model_path = os.path.join(model_dir, \"crop_disease_model.keras\")\n",
    "model.save(model_path)\n",
    "print(f\"✅ Model saved to: {model_path}\")\n"
   ]
  },
  {
   "cell_type": "code",
   "execution_count": null,
   "id": "1acb8766",
   "metadata": {},
   "outputs": [
    {
     "name": "stdout",
     "output_type": "stream",
     "text": [
      " * Serving Flask app '__main__'\n",
      " * Debug mode: on\n"
     ]
    },
    {
     "name": "stderr",
     "output_type": "stream",
     "text": [
      "WARNING: This is a development server. Do not use it in a production deployment. Use a production WSGI server instead.\n",
      " * Running on http://127.0.0.1:5000\n",
      "Press CTRL+C to quit\n",
      "127.0.0.1 - - [25/Apr/2025 16:56:19] \"GET / HTTP/1.1\" 200 -\n"
     ]
    },
    {
     "name": "stdout",
     "output_type": "stream",
     "text": [
      "1/1 [==============================] - 0s 149ms/step\n"
     ]
    },
    {
     "name": "stderr",
     "output_type": "stream",
     "text": [
      "127.0.0.1 - - [25/Apr/2025 16:56:27] \"POST /predict HTTP/1.1\" 200 -\n"
     ]
    },
    {
     "name": "stdout",
     "output_type": "stream",
     "text": [
      "1/1 [==============================] - 0s 34ms/step\n"
     ]
    },
    {
     "name": "stderr",
     "output_type": "stream",
     "text": [
      "127.0.0.1 - - [25/Apr/2025 16:56:38] \"POST /predict HTTP/1.1\" 200 -\n"
     ]
    },
    {
     "name": "stdout",
     "output_type": "stream",
     "text": [
      "1/1 [==============================] - 0s 33ms/step\n"
     ]
    },
    {
     "name": "stderr",
     "output_type": "stream",
     "text": [
      "127.0.0.1 - - [25/Apr/2025 16:56:47] \"POST /predict HTTP/1.1\" 200 -\n"
     ]
    },
    {
     "name": "stdout",
     "output_type": "stream",
     "text": [
      "1/1 [==============================] - 0s 30ms/step\n"
     ]
    },
    {
     "name": "stderr",
     "output_type": "stream",
     "text": [
      "127.0.0.1 - - [25/Apr/2025 16:56:55] \"POST /predict HTTP/1.1\" 200 -\n"
     ]
    }
   ],
   "source": [
    "import os\n",
    "import json\n",
    "import numpy as np\n",
    "from flask import Flask, render_template, request\n",
    "from tensorflow.keras.models import load_model\n",
    "from tensorflow.keras.preprocessing import image\n",
    "\n",
    "# Load model and class labels\n",
    "model = load_model('Crop Disease Detection/model/crop_disease_model.keras')\n",
    "\n",
    "with open('Crop Disease Detection/model/class_indices.json') as f:\n",
    "    class_indices = json.load(f)\n",
    "\n",
    "# Reverse the class indices\n",
    "class_labels = {v: k for k, v in class_indices.items()}\n",
    "\n",
    "# Flask app setup\n",
    "app = Flask(__name__, template_folder='Crop Disease Detection/templates')\n",
    "UPLOAD_FOLDER = 'Crop Disease Detection/static/upload'\n",
    "os.makedirs(UPLOAD_FOLDER, exist_ok=True)\n",
    "app.config['UPLOAD_FOLDER'] = UPLOAD_FOLDER\n",
    "\n",
    "@app.route('/')\n",
    "def home():\n",
    "    return render_template('index.html')\n",
    "\n",
    "@app.route('/predict', methods=['POST'])\n",
    "def predict():\n",
    "    if 'file' not in request.files:\n",
    "        return render_template('index.html', error='No file part')\n",
    "    \n",
    "    file = request.files['file']\n",
    "    if file.filename == '':\n",
    "        return render_template('index.html', error='No selected file')\n",
    "\n",
    "    if file:\n",
    "        file_path = os.path.join(app.config['UPLOAD_FOLDER'], file.filename)\n",
    "        file.save(file_path)\n",
    "\n",
    "        # Preprocess the image\n",
    "        img = image.load_img(file_path, target_size=(128, 128))\n",
    "        img_array = image.img_to_array(img)\n",
    "        img_array = np.expand_dims(img_array, axis=0)\n",
    "        img_array = img_array / 255.0\n",
    "\n",
    "        # Prediction\n",
    "        prediction = model.predict(img_array)[0][0]\n",
    "        predicted_class = \"Unhealthy\" if prediction >= 0.5 else \"Healthy\"\n",
    "        confidence = prediction if predicted_class == \"Unhealthy\" else 1 - prediction\n",
    "\n",
    "        # Static info\n",
    "        info = {\n",
    "            \"Healthy\": {\n",
    "                \"description\": \"The crop appears healthy with no visible disease symptoms.\",\n",
    "                \"precautions\": \"Continue regular monitoring and proper care.\"\n",
    "            },\n",
    "            \"Unhealthy\": {\n",
    "                \"description\": \"The crop might be infected by a disease. Further diagnosis recommended.\",\n",
    "                \"precautions\": \"Isolate affected crops, consult an expert, and apply proper treatment.\"\n",
    "            }\n",
    "        }\n",
    "\n",
    "        return render_template('index.html',\n",
    "                               prediction=predicted_class,\n",
    "                               description=info[predicted_class][\"description\"],\n",
    "                               precautions=info[predicted_class][\"precautions\"],\n",
    "                               confidence=f\"{confidence*100:.2f}%\",\n",
    "                               image_path=file_path)\n",
    "\n",
    "if __name__ == \"__main__\":\n",
    "    app.run(debug=True, use_reloader=False)\n",
    "\n",
    "    \n",
    "    "
   ]
  },
  {
   "cell_type": "code",
   "execution_count": null,
   "id": "82d97476",
   "metadata": {},
   "outputs": [],
   "source": []
  },
  {
   "cell_type": "code",
   "execution_count": null,
   "id": "b282aff9",
   "metadata": {},
   "outputs": [],
   "source": []
  },
  {
   "cell_type": "code",
   "execution_count": null,
   "id": "bda5d484",
   "metadata": {},
   "outputs": [],
   "source": []
  },
  {
   "cell_type": "code",
   "execution_count": null,
   "id": "a78f3085",
   "metadata": {},
   "outputs": [],
   "source": []
  },
  {
   "cell_type": "code",
   "execution_count": null,
   "id": "7e33c3f9",
   "metadata": {},
   "outputs": [],
   "source": []
  },
  {
   "cell_type": "code",
   "execution_count": null,
   "id": "b84827b4",
   "metadata": {},
   "outputs": [],
   "source": []
  },
  {
   "cell_type": "code",
   "execution_count": null,
   "id": "05425220",
   "metadata": {},
   "outputs": [],
   "source": []
  }
 ],
 "metadata": {
  "kernelspec": {
   "display_name": "Python 3 (ipykernel)",
   "language": "python",
   "name": "python3"
  },
  "language_info": {
   "codemirror_mode": {
    "name": "ipython",
    "version": 3
   },
   "file_extension": ".py",
   "mimetype": "text/x-python",
   "name": "python",
   "nbconvert_exporter": "python",
   "pygments_lexer": "ipython3",
   "version": "3.11.5"
  }
 },
 "nbformat": 4,
 "nbformat_minor": 5
}
